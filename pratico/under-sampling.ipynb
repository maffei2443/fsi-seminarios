{
 "cells": [
  {
   "cell_type": "code",
   "execution_count": 235,
   "metadata": {},
   "outputs": [],
   "source": [
    "import pandas as pd\n",
    "import numpy as np\n",
    "from collections import Counter\n",
    "from sklearn.preprocessing import MinMaxScaler"
   ]
  },
  {
   "cell_type": "code",
   "execution_count": 368,
   "metadata": {},
   "outputs": [],
   "source": [
    "_data = pd.read_csv(\"data_classes.csv\").sort_values(by='Class')\n",
    "data = _data.copy()\n",
    "\n",
    "data = data.drop( data[data['Class'] == 'kNN.f1m'].index)\n",
    "\n",
    "X = data.drop(\"Class\", axis = 1)\n",
    "y = data[\"Class\"]\n",
    "# data_grouped = data.sort_values(by='Class')\n",
    "classes = list(y.unique())\n",
    "sample_by_class = Counter(y)"
   ]
  },
  {
   "cell_type": "code",
   "execution_count": null,
   "metadata": {},
   "outputs": [],
   "source": [
    "# data = data.drop( data[data['Class'] == 'kNN.f1m'].index)  "
   ]
  },
  {
   "cell_type": "code",
   "execution_count": 386,
   "metadata": {},
   "outputs": [
    {
     "data": {
      "text/plain": [
       "Counter({'ANN.f1m': 68, 'C4.5.f1m': 56, 'RF.f1m': 156, 'SVM.f1m': 72})"
      ]
     },
     "execution_count": 386,
     "metadata": {},
     "output_type": "execute_result"
    }
   ],
   "source": [
    "sample_by_class"
   ]
  },
  {
   "cell_type": "code",
   "execution_count": 450,
   "metadata": {},
   "outputs": [],
   "source": [
    "X_under_sampled = pd.DataFrame()\n",
    "for c in classes:\n",
    "    X_under_sampled = X_under_sampled.append( \n",
    "        data[data['Class'] == c]\n",
    "            .drop(labels='Class', axis=1)\n",
    "            .sample( int(0.7 * sample_by_class[c] if c != 'RF.f1m' else 70 ) )\n",
    "        )\n",
    "X_under_sampled.sort_index(inplace = True)\n",
    "y_under_sampled = y[X_under_sampled.index].sort_index()\n",
    "\n",
    "\n",
    "# Usar para teste atributos neu usados para treinamento\n",
    "X_test = X.drop(X_under_sampled.index)        \n",
    "y_test = y.drop(X_under_sampled.index)                 "
   ]
  },
  {
   "cell_type": "code",
   "execution_count": 470,
   "metadata": {},
   "outputs": [
    {
     "name": "stdout",
     "output_type": "stream",
     "text": [
      "treinamento:  Counter({'RF.f1m': 70, 'SVM.f1m': 50, 'ANN.f1m': 47, 'C4.5.f1m': 39})\n",
      "teste:  Counter({'RF.f1m': 86, 'SVM.f1m': 22, 'ANN.f1m': 21, 'C4.5.f1m': 17})\n",
      "predicao:  Counter({'RF.f1m': 139, 'ANN.f1m': 4, 'C4.5.f1m': 3})\n"
     ]
    },
    {
     "data": {
      "text/plain": [
       "0.5684931506849316"
      ]
     },
     "execution_count": 470,
     "metadata": {},
     "output_type": "execute_result"
    }
   ],
   "source": [
    "from sklearn.neighbors import KNeighborsClassifier\n",
    "\n",
    "knn = KNeighborsClassifier(n_neighbors=7, n_jobs=-1, p=1)\n",
    "knn = knn.fit(MinMaxScaler().fit_transform(X_under_sampled), y_under_sampled)\n",
    "print(\"treinamento: \", Counter(y_under_sampled))\n",
    "print(\"teste: \", Counter(y_test))\n",
    "\n",
    "print(\"predicao: \", Counter(knn.predict(X_test)))\n",
    "knn.score((X_test), y_test)\n"
   ]
  },
  {
   "cell_type": "code",
   "execution_count": 472,
   "metadata": {},
   "outputs": [
    {
     "name": "stdout",
     "output_type": "stream",
     "text": [
      "              precision    recall  f1-score   support\n",
      "\n",
      "     ANN.f1m       0.00      0.00      0.00         0\n",
      "    C4.5.f1m       0.00      0.00      0.00         0\n",
      "      RF.f1m       1.00      0.59      0.74       146\n",
      "     SVM.f1m       0.00      0.00      0.00         0\n",
      "\n",
      "    accuracy                           0.59       146\n",
      "   macro avg       0.25      0.15      0.19       146\n",
      "weighted avg       1.00      0.59      0.74       146\n",
      "\n"
     ]
    },
    {
     "name": "stderr",
     "output_type": "stream",
     "text": [
      "/home/leomaffei/test/lib/python3.7/site-packages/sklearn/metrics/_classification.py:1272: UndefinedMetricWarning: Recall and F-score are ill-defined and being set to 0.0 in labels with no true samples. Use `zero_division` parameter to control this behavior.\n",
      "  _warn_prf(average, modifier, msg_start, len(result))\n"
     ]
    }
   ],
   "source": [
    "from sklearn.neural_network import MLPClassifier\n",
    "\n",
    "from sklearn.metrics import confusion_matrix, classification_report\n",
    "\n",
    "mn = MinMaxScaler()\n",
    "\n",
    "mlpc = MLPClassifier(hidden_layer_sizes = (4, 2, 1), max_iter = 10000,\n",
    "                    activation='relu', alpha=1e-6, \n",
    "                    learning_rate='adaptive')\n",
    "\n",
    "mlpc.fit( mn.fit_transform(X_under_sampled), y_under_sampled)\n",
    "pred_mlpc = mlpc.predict(mn.fit_transform(X_test))\n",
    "# print(confusion_matrix(pred_mlpc, y_test))\n",
    "print(classification_report(pred_mlpc, y_test))"
   ]
  },
  {
   "cell_type": "code",
   "execution_count": 394,
   "metadata": {
    "collapsed": true
   },
   "outputs": [
    {
     "name": "stdout",
     "output_type": "stream",
     "text": [
      "              precision    recall  f1-score   support\n",
      "\n",
      "     ANN.f1m       0.00      0.00      0.00         0\n",
      "    C4.5.f1m       0.00      0.00      0.00         0\n",
      "      RF.f1m       1.00      0.60      0.75       151\n",
      "     SVM.f1m       0.00      0.00      0.00         0\n",
      "\n",
      "    accuracy                           0.60       151\n",
      "   macro avg       0.25      0.15      0.19       151\n",
      "weighted avg       1.00      0.60      0.75       151\n",
      "\n"
     ]
    },
    {
     "name": "stderr",
     "output_type": "stream",
     "text": [
      "/home/leomaffei/test/lib/python3.7/site-packages/sklearn/metrics/_classification.py:1272: UndefinedMetricWarning: Recall and F-score are ill-defined and being set to 0.0 in labels with no true samples. Use `zero_division` parameter to control this behavior.\n",
      "  _warn_prf(average, modifier, msg_start, len(result))\n"
     ]
    }
   ],
   "source": [
    "from sklearn.neural_network import MLPClassifier\n",
    "\n",
    "from sklearn.metrics import confusion_matrix, classification_report\n",
    "\n",
    "mn = MinMaxScaler()\n",
    "\n",
    "mlpc = MLPClassifier(hidden_layer_sizes = (2, 2, 1), max_iter = 10000,\n",
    "                    activation='relu', alpha=1e-6, \n",
    "                    learning_rate='adaptive')\n",
    "\n",
    "mlpc.fit( mn.fit_transform(X_under_sampled), y_under_sampled)\n",
    "pred_mlpc = mlpc.predict(mn.fit_transform(X_test))\n",
    "# print(confusion_matrix(pred_mlpc, y_test))\n",
    "print(classification_report(pred_mlpc, y_test))"
   ]
  }
 ],
 "metadata": {
  "kernelspec": {
   "display_name": "Python 3",
   "language": "python",
   "name": "python3"
  },
  "language_info": {
   "codemirror_mode": {
    "name": "ipython",
    "version": 3
   },
   "file_extension": ".py",
   "mimetype": "text/x-python",
   "name": "python",
   "nbconvert_exporter": "python",
   "pygments_lexer": "ipython3",
   "version": "3.7.2"
  }
 },
 "nbformat": 4,
 "nbformat_minor": 4
}
