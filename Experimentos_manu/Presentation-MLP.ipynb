{
 "cells": [
  {
   "cell_type": "markdown",
   "metadata": {},
   "source": [
    "# Seminário prático - Experimentos sobre meta-aprendizado"
   ]
  },
  {
   "cell_type": "code",
   "execution_count": 1,
   "metadata": {},
   "outputs": [],
   "source": [
    "import numpy as np\n",
    "import pandas as pd\n",
    "import matplotlib.pyplot as plt\n",
    "from collections import Counter\n",
    "from importlib import reload\n",
    "from sklearn.ensemble import RandomForestClassifier\n",
    "from sklearn.neural_network import MLPClassifier\n",
    "from sklearn.model_selection import cross_val_score, cross_validate\n",
    "from sklearn.model_selection import StratifiedKFold\n",
    "from sklearn.metrics import plot_confusion_matrix, accuracy_score\n",
    "\n",
    "import aux\n",
    "from aux import preprocess_default, ALL_ACC, ALL_ACC_SET, \\\n",
    "    drop_draw_set_class, drop_all_vs_rf, print_counter, \\\n",
    "    show_metrics, show_most_important_features\n",
    "from itertools import combinations\n",
    "from sklearn.metrics import precision_recall_fscore_support"
   ]
  },
  {
   "cell_type": "code",
   "execution_count": 2,
   "metadata": {},
   "outputs": [
    {
     "data": {
      "text/html": [
       "<div>\n",
       "<style scoped>\n",
       "    .dataframe tbody tr th:only-of-type {\n",
       "        vertical-align: middle;\n",
       "    }\n",
       "\n",
       "    .dataframe tbody tr th {\n",
       "        vertical-align: top;\n",
       "    }\n",
       "\n",
       "    .dataframe thead th {\n",
       "        text-align: right;\n",
       "    }\n",
       "</style>\n",
       "<table border=\"1\" class=\"dataframe\">\n",
       "  <thead>\n",
       "    <tr style=\"text-align: right;\">\n",
       "      <th></th>\n",
       "      <th>general.attrToInst</th>\n",
       "      <th>general.catToNum</th>\n",
       "      <th>general.freqClass.mean</th>\n",
       "      <th>general.freqClass.sd</th>\n",
       "      <th>general.instToAttr</th>\n",
       "      <th>general.nrAttr</th>\n",
       "      <th>general.nrBin</th>\n",
       "      <th>general.nrCat</th>\n",
       "      <th>general.nrClass</th>\n",
       "      <th>general.nrInst</th>\n",
       "      <th>...</th>\n",
       "      <th>C4.5.auc</th>\n",
       "      <th>kNN.acc</th>\n",
       "      <th>kNN.f1m</th>\n",
       "      <th>kNN.auc</th>\n",
       "      <th>SVM.acc</th>\n",
       "      <th>SVM.f1m</th>\n",
       "      <th>SVM.auc</th>\n",
       "      <th>RF.acc</th>\n",
       "      <th>RF.f1m</th>\n",
       "      <th>RF.auc</th>\n",
       "    </tr>\n",
       "  </thead>\n",
       "  <tbody>\n",
       "    <tr>\n",
       "      <th>0</th>\n",
       "      <td>0.100000</td>\n",
       "      <td>0.000000</td>\n",
       "      <td>0.5</td>\n",
       "      <td>0.471405</td>\n",
       "      <td>10.000000</td>\n",
       "      <td>60</td>\n",
       "      <td>0</td>\n",
       "      <td>0</td>\n",
       "      <td>2</td>\n",
       "      <td>600</td>\n",
       "      <td>...</td>\n",
       "      <td>0.993992</td>\n",
       "      <td>1.000000</td>\n",
       "      <td>1.000000</td>\n",
       "      <td>1.000000</td>\n",
       "      <td>1.000000</td>\n",
       "      <td>1.000000</td>\n",
       "      <td>1.000000</td>\n",
       "      <td>1.000000</td>\n",
       "      <td>1.000000</td>\n",
       "      <td>1.000000</td>\n",
       "    </tr>\n",
       "    <tr>\n",
       "      <th>1</th>\n",
       "      <td>0.042056</td>\n",
       "      <td>0.000000</td>\n",
       "      <td>0.5</td>\n",
       "      <td>0.204863</td>\n",
       "      <td>23.777778</td>\n",
       "      <td>9</td>\n",
       "      <td>0</td>\n",
       "      <td>0</td>\n",
       "      <td>2</td>\n",
       "      <td>214</td>\n",
       "      <td>...</td>\n",
       "      <td>0.786753</td>\n",
       "      <td>0.789214</td>\n",
       "      <td>0.764841</td>\n",
       "      <td>0.879050</td>\n",
       "      <td>0.770022</td>\n",
       "      <td>0.733372</td>\n",
       "      <td>0.835946</td>\n",
       "      <td>0.848485</td>\n",
       "      <td>0.822825</td>\n",
       "      <td>0.916196</td>\n",
       "    </tr>\n",
       "    <tr>\n",
       "      <th>2</th>\n",
       "      <td>0.121622</td>\n",
       "      <td>5.000000</td>\n",
       "      <td>0.5</td>\n",
       "      <td>0.066888</td>\n",
       "      <td>8.222222</td>\n",
       "      <td>18</td>\n",
       "      <td>9</td>\n",
       "      <td>15</td>\n",
       "      <td>2</td>\n",
       "      <td>148</td>\n",
       "      <td>...</td>\n",
       "      <td>0.813973</td>\n",
       "      <td>0.807071</td>\n",
       "      <td>0.803779</td>\n",
       "      <td>0.887428</td>\n",
       "      <td>0.846863</td>\n",
       "      <td>0.843160</td>\n",
       "      <td>0.927110</td>\n",
       "      <td>0.866887</td>\n",
       "      <td>0.861265</td>\n",
       "      <td>0.941109</td>\n",
       "    </tr>\n",
       "    <tr>\n",
       "      <th>3</th>\n",
       "      <td>0.492063</td>\n",
       "      <td>0.148148</td>\n",
       "      <td>0.5</td>\n",
       "      <td>0.145911</td>\n",
       "      <td>2.032258</td>\n",
       "      <td>31</td>\n",
       "      <td>0</td>\n",
       "      <td>4</td>\n",
       "      <td>2</td>\n",
       "      <td>63</td>\n",
       "      <td>...</td>\n",
       "      <td>0.662129</td>\n",
       "      <td>0.663429</td>\n",
       "      <td>0.680036</td>\n",
       "      <td>0.749489</td>\n",
       "      <td>0.761619</td>\n",
       "      <td>0.750802</td>\n",
       "      <td>0.827020</td>\n",
       "      <td>0.785238</td>\n",
       "      <td>0.771251</td>\n",
       "      <td>0.833724</td>\n",
       "    </tr>\n",
       "    <tr>\n",
       "      <th>4</th>\n",
       "      <td>0.020833</td>\n",
       "      <td>0.000000</td>\n",
       "      <td>0.5</td>\n",
       "      <td>0.105224</td>\n",
       "      <td>48.000000</td>\n",
       "      <td>7</td>\n",
       "      <td>2</td>\n",
       "      <td>0</td>\n",
       "      <td>2</td>\n",
       "      <td>336</td>\n",
       "      <td>...</td>\n",
       "      <td>0.959853</td>\n",
       "      <td>0.942531</td>\n",
       "      <td>0.941450</td>\n",
       "      <td>0.977326</td>\n",
       "      <td>0.966627</td>\n",
       "      <td>0.965831</td>\n",
       "      <td>0.985190</td>\n",
       "      <td>0.965199</td>\n",
       "      <td>0.964476</td>\n",
       "      <td>0.987683</td>\n",
       "    </tr>\n",
       "    <tr>\n",
       "      <th>...</th>\n",
       "      <td>...</td>\n",
       "      <td>...</td>\n",
       "      <td>...</td>\n",
       "      <td>...</td>\n",
       "      <td>...</td>\n",
       "      <td>...</td>\n",
       "      <td>...</td>\n",
       "      <td>...</td>\n",
       "      <td>...</td>\n",
       "      <td>...</td>\n",
       "      <td>...</td>\n",
       "      <td>...</td>\n",
       "      <td>...</td>\n",
       "      <td>...</td>\n",
       "      <td>...</td>\n",
       "      <td>...</td>\n",
       "      <td>...</td>\n",
       "      <td>...</td>\n",
       "      <td>...</td>\n",
       "      <td>...</td>\n",
       "      <td>...</td>\n",
       "    </tr>\n",
       "    <tr>\n",
       "      <th>395</th>\n",
       "      <td>0.223881</td>\n",
       "      <td>0.071429</td>\n",
       "      <td>0.5</td>\n",
       "      <td>0.158307</td>\n",
       "      <td>4.466667</td>\n",
       "      <td>15</td>\n",
       "      <td>1</td>\n",
       "      <td>1</td>\n",
       "      <td>2</td>\n",
       "      <td>67</td>\n",
       "      <td>...</td>\n",
       "      <td>0.779784</td>\n",
       "      <td>0.768214</td>\n",
       "      <td>0.757795</td>\n",
       "      <td>0.843975</td>\n",
       "      <td>0.697202</td>\n",
       "      <td>0.701777</td>\n",
       "      <td>0.808815</td>\n",
       "      <td>0.798333</td>\n",
       "      <td>0.784645</td>\n",
       "      <td>0.858558</td>\n",
       "    </tr>\n",
       "    <tr>\n",
       "      <th>396</th>\n",
       "      <td>0.003472</td>\n",
       "      <td>0.000000</td>\n",
       "      <td>0.5</td>\n",
       "      <td>0.283170</td>\n",
       "      <td>288.000000</td>\n",
       "      <td>6</td>\n",
       "      <td>0</td>\n",
       "      <td>6</td>\n",
       "      <td>2</td>\n",
       "      <td>1728</td>\n",
       "      <td>...</td>\n",
       "      <td>0.982767</td>\n",
       "      <td>0.877835</td>\n",
       "      <td>0.844500</td>\n",
       "      <td>0.955360</td>\n",
       "      <td>0.957931</td>\n",
       "      <td>0.950636</td>\n",
       "      <td>0.993741</td>\n",
       "      <td>0.989701</td>\n",
       "      <td>0.987869</td>\n",
       "      <td>0.999346</td>\n",
       "    </tr>\n",
       "    <tr>\n",
       "      <th>397</th>\n",
       "      <td>0.021277</td>\n",
       "      <td>0.000000</td>\n",
       "      <td>0.5</td>\n",
       "      <td>0.342688</td>\n",
       "      <td>47.000000</td>\n",
       "      <td>18</td>\n",
       "      <td>0</td>\n",
       "      <td>0</td>\n",
       "      <td>2</td>\n",
       "      <td>846</td>\n",
       "      <td>...</td>\n",
       "      <td>0.969553</td>\n",
       "      <td>0.970795</td>\n",
       "      <td>0.962234</td>\n",
       "      <td>0.993139</td>\n",
       "      <td>0.979193</td>\n",
       "      <td>0.972641</td>\n",
       "      <td>0.996332</td>\n",
       "      <td>0.986998</td>\n",
       "      <td>0.982835</td>\n",
       "      <td>0.998817</td>\n",
       "    </tr>\n",
       "    <tr>\n",
       "      <th>398</th>\n",
       "      <td>0.023500</td>\n",
       "      <td>0.000000</td>\n",
       "      <td>0.5</td>\n",
       "      <td>0.565685</td>\n",
       "      <td>42.553191</td>\n",
       "      <td>47</td>\n",
       "      <td>0</td>\n",
       "      <td>0</td>\n",
       "      <td>2</td>\n",
       "      <td>2000</td>\n",
       "      <td>...</td>\n",
       "      <td>0.981546</td>\n",
       "      <td>0.993950</td>\n",
       "      <td>0.983220</td>\n",
       "      <td>0.998558</td>\n",
       "      <td>0.994550</td>\n",
       "      <td>0.984556</td>\n",
       "      <td>0.999174</td>\n",
       "      <td>0.988250</td>\n",
       "      <td>0.965376</td>\n",
       "      <td>0.998578</td>\n",
       "    </tr>\n",
       "    <tr>\n",
       "      <th>399</th>\n",
       "      <td>0.006400</td>\n",
       "      <td>0.000000</td>\n",
       "      <td>0.5</td>\n",
       "      <td>0.055437</td>\n",
       "      <td>156.250000</td>\n",
       "      <td>4</td>\n",
       "      <td>0</td>\n",
       "      <td>0</td>\n",
       "      <td>2</td>\n",
       "      <td>625</td>\n",
       "      <td>...</td>\n",
       "      <td>0.835646</td>\n",
       "      <td>0.858469</td>\n",
       "      <td>0.857016</td>\n",
       "      <td>0.960794</td>\n",
       "      <td>0.973110</td>\n",
       "      <td>0.972841</td>\n",
       "      <td>0.996881</td>\n",
       "      <td>0.888952</td>\n",
       "      <td>0.887862</td>\n",
       "      <td>0.973667</td>\n",
       "    </tr>\n",
       "  </tbody>\n",
       "</table>\n",
       "<p>400 rows × 123 columns</p>\n",
       "</div>"
      ],
      "text/plain": [
       "     general.attrToInst  general.catToNum  general.freqClass.mean  \\\n",
       "0              0.100000          0.000000                     0.5   \n",
       "1              0.042056          0.000000                     0.5   \n",
       "2              0.121622          5.000000                     0.5   \n",
       "3              0.492063          0.148148                     0.5   \n",
       "4              0.020833          0.000000                     0.5   \n",
       "..                  ...               ...                     ...   \n",
       "395            0.223881          0.071429                     0.5   \n",
       "396            0.003472          0.000000                     0.5   \n",
       "397            0.021277          0.000000                     0.5   \n",
       "398            0.023500          0.000000                     0.5   \n",
       "399            0.006400          0.000000                     0.5   \n",
       "\n",
       "     general.freqClass.sd  general.instToAttr  general.nrAttr  general.nrBin  \\\n",
       "0                0.471405           10.000000              60              0   \n",
       "1                0.204863           23.777778               9              0   \n",
       "2                0.066888            8.222222              18              9   \n",
       "3                0.145911            2.032258              31              0   \n",
       "4                0.105224           48.000000               7              2   \n",
       "..                    ...                 ...             ...            ...   \n",
       "395              0.158307            4.466667              15              1   \n",
       "396              0.283170          288.000000               6              0   \n",
       "397              0.342688           47.000000              18              0   \n",
       "398              0.565685           42.553191              47              0   \n",
       "399              0.055437          156.250000               4              0   \n",
       "\n",
       "     general.nrCat  general.nrClass  general.nrInst  ...  C4.5.auc   kNN.acc  \\\n",
       "0                0                2             600  ...  0.993992  1.000000   \n",
       "1                0                2             214  ...  0.786753  0.789214   \n",
       "2               15                2             148  ...  0.813973  0.807071   \n",
       "3                4                2              63  ...  0.662129  0.663429   \n",
       "4                0                2             336  ...  0.959853  0.942531   \n",
       "..             ...              ...             ...  ...       ...       ...   \n",
       "395              1                2              67  ...  0.779784  0.768214   \n",
       "396              6                2            1728  ...  0.982767  0.877835   \n",
       "397              0                2             846  ...  0.969553  0.970795   \n",
       "398              0                2            2000  ...  0.981546  0.993950   \n",
       "399              0                2             625  ...  0.835646  0.858469   \n",
       "\n",
       "      kNN.f1m   kNN.auc   SVM.acc   SVM.f1m   SVM.auc    RF.acc    RF.f1m  \\\n",
       "0    1.000000  1.000000  1.000000  1.000000  1.000000  1.000000  1.000000   \n",
       "1    0.764841  0.879050  0.770022  0.733372  0.835946  0.848485  0.822825   \n",
       "2    0.803779  0.887428  0.846863  0.843160  0.927110  0.866887  0.861265   \n",
       "3    0.680036  0.749489  0.761619  0.750802  0.827020  0.785238  0.771251   \n",
       "4    0.941450  0.977326  0.966627  0.965831  0.985190  0.965199  0.964476   \n",
       "..        ...       ...       ...       ...       ...       ...       ...   \n",
       "395  0.757795  0.843975  0.697202  0.701777  0.808815  0.798333  0.784645   \n",
       "396  0.844500  0.955360  0.957931  0.950636  0.993741  0.989701  0.987869   \n",
       "397  0.962234  0.993139  0.979193  0.972641  0.996332  0.986998  0.982835   \n",
       "398  0.983220  0.998558  0.994550  0.984556  0.999174  0.988250  0.965376   \n",
       "399  0.857016  0.960794  0.973110  0.972841  0.996881  0.888952  0.887862   \n",
       "\n",
       "       RF.auc  \n",
       "0    1.000000  \n",
       "1    0.916196  \n",
       "2    0.941109  \n",
       "3    0.833724  \n",
       "4    0.987683  \n",
       "..        ...  \n",
       "395  0.858558  \n",
       "396  0.999346  \n",
       "397  0.998817  \n",
       "398  0.998578  \n",
       "399  0.973667  \n",
       "\n",
       "[400 rows x 123 columns]"
      ]
     },
     "execution_count": 2,
     "metadata": {},
     "output_type": "execute_result"
    }
   ],
   "source": [
    "data = pd.read_csv(\"meta-base.csv\")\n",
    "data"
   ]
  },
  {
   "cell_type": "markdown",
   "metadata": {},
   "source": [
    "# Primeiro experimento - 5 Classes"
   ]
  },
  {
   "cell_type": "code",
   "execution_count": 3,
   "metadata": {},
   "outputs": [
    {
     "data": {
      "text/html": [
       "<div>\n",
       "<style scoped>\n",
       "    .dataframe tbody tr th:only-of-type {\n",
       "        vertical-align: middle;\n",
       "    }\n",
       "\n",
       "    .dataframe tbody tr th {\n",
       "        vertical-align: top;\n",
       "    }\n",
       "\n",
       "    .dataframe thead th {\n",
       "        text-align: right;\n",
       "    }\n",
       "</style>\n",
       "<table border=\"1\" class=\"dataframe\">\n",
       "  <thead>\n",
       "    <tr style=\"text-align: right;\">\n",
       "      <th></th>\n",
       "      <th>landmarking.randomNode.sd</th>\n",
       "      <th>landmarking.worstNode.mean</th>\n",
       "      <th>landmarking.worstNode.sd</th>\n",
       "      <th>ANN.acc</th>\n",
       "      <th>C4.5.acc</th>\n",
       "      <th>kNN.acc</th>\n",
       "      <th>SVM.acc</th>\n",
       "      <th>RF.acc</th>\n",
       "    </tr>\n",
       "  </thead>\n",
       "  <tbody>\n",
       "    <tr>\n",
       "      <th>0</th>\n",
       "      <td>0.038789</td>\n",
       "      <td>0.886667</td>\n",
       "      <td>0.041425</td>\n",
       "      <td>1.000000</td>\n",
       "      <td>0.992000</td>\n",
       "      <td>1.000000</td>\n",
       "      <td>1.000000</td>\n",
       "      <td>1.000000</td>\n",
       "    </tr>\n",
       "    <tr>\n",
       "      <th>1</th>\n",
       "      <td>0.089963</td>\n",
       "      <td>0.617662</td>\n",
       "      <td>0.076761</td>\n",
       "      <td>0.708379</td>\n",
       "      <td>0.784846</td>\n",
       "      <td>0.789214</td>\n",
       "      <td>0.770022</td>\n",
       "      <td>0.848485</td>\n",
       "    </tr>\n",
       "    <tr>\n",
       "      <th>2</th>\n",
       "      <td>0.123754</td>\n",
       "      <td>0.560536</td>\n",
       "      <td>0.119251</td>\n",
       "      <td>0.837292</td>\n",
       "      <td>0.792357</td>\n",
       "      <td>0.807071</td>\n",
       "      <td>0.846863</td>\n",
       "      <td>0.866887</td>\n",
       "    </tr>\n",
       "    <tr>\n",
       "      <th>3</th>\n",
       "      <td>0.160420</td>\n",
       "      <td>0.639048</td>\n",
       "      <td>0.171734</td>\n",
       "      <td>0.767238</td>\n",
       "      <td>0.646000</td>\n",
       "      <td>0.663429</td>\n",
       "      <td>0.761619</td>\n",
       "      <td>0.785238</td>\n",
       "    </tr>\n",
       "    <tr>\n",
       "      <th>4</th>\n",
       "      <td>0.110580</td>\n",
       "      <td>0.604069</td>\n",
       "      <td>0.075009</td>\n",
       "      <td>0.961919</td>\n",
       "      <td>0.949307</td>\n",
       "      <td>0.942531</td>\n",
       "      <td>0.966627</td>\n",
       "      <td>0.965199</td>\n",
       "    </tr>\n",
       "    <tr>\n",
       "      <th>...</th>\n",
       "      <td>...</td>\n",
       "      <td>...</td>\n",
       "      <td>...</td>\n",
       "      <td>...</td>\n",
       "      <td>...</td>\n",
       "      <td>...</td>\n",
       "      <td>...</td>\n",
       "      <td>...</td>\n",
       "    </tr>\n",
       "    <tr>\n",
       "      <th>395</th>\n",
       "      <td>0.160472</td>\n",
       "      <td>0.636310</td>\n",
       "      <td>0.179899</td>\n",
       "      <td>0.770893</td>\n",
       "      <td>0.765179</td>\n",
       "      <td>0.768214</td>\n",
       "      <td>0.697202</td>\n",
       "      <td>0.798333</td>\n",
       "    </tr>\n",
       "    <tr>\n",
       "      <th>396</th>\n",
       "      <td>0.018734</td>\n",
       "      <td>0.700249</td>\n",
       "      <td>0.018734</td>\n",
       "      <td>0.999768</td>\n",
       "      <td>0.950167</td>\n",
       "      <td>0.877835</td>\n",
       "      <td>0.957931</td>\n",
       "      <td>0.989701</td>\n",
       "    </tr>\n",
       "    <tr>\n",
       "      <th>397</th>\n",
       "      <td>0.041359</td>\n",
       "      <td>0.742169</td>\n",
       "      <td>0.042820</td>\n",
       "      <td>0.982605</td>\n",
       "      <td>0.962633</td>\n",
       "      <td>0.970795</td>\n",
       "      <td>0.979193</td>\n",
       "      <td>0.986998</td>\n",
       "    </tr>\n",
       "    <tr>\n",
       "      <th>398</th>\n",
       "      <td>0.008433</td>\n",
       "      <td>0.900000</td>\n",
       "      <td>0.000000</td>\n",
       "      <td>0.994850</td>\n",
       "      <td>0.983450</td>\n",
       "      <td>0.993950</td>\n",
       "      <td>0.994550</td>\n",
       "      <td>0.988250</td>\n",
       "    </tr>\n",
       "    <tr>\n",
       "      <th>399</th>\n",
       "      <td>0.107194</td>\n",
       "      <td>0.672759</td>\n",
       "      <td>0.138320</td>\n",
       "      <td>0.949768</td>\n",
       "      <td>0.836005</td>\n",
       "      <td>0.858469</td>\n",
       "      <td>0.973110</td>\n",
       "      <td>0.888952</td>\n",
       "    </tr>\n",
       "  </tbody>\n",
       "</table>\n",
       "<p>400 rows × 8 columns</p>\n",
       "</div>"
      ],
      "text/plain": [
       "     landmarking.randomNode.sd  landmarking.worstNode.mean  \\\n",
       "0                     0.038789                    0.886667   \n",
       "1                     0.089963                    0.617662   \n",
       "2                     0.123754                    0.560536   \n",
       "3                     0.160420                    0.639048   \n",
       "4                     0.110580                    0.604069   \n",
       "..                         ...                         ...   \n",
       "395                   0.160472                    0.636310   \n",
       "396                   0.018734                    0.700249   \n",
       "397                   0.041359                    0.742169   \n",
       "398                   0.008433                    0.900000   \n",
       "399                   0.107194                    0.672759   \n",
       "\n",
       "     landmarking.worstNode.sd   ANN.acc  C4.5.acc   kNN.acc   SVM.acc  \\\n",
       "0                    0.041425  1.000000  0.992000  1.000000  1.000000   \n",
       "1                    0.076761  0.708379  0.784846  0.789214  0.770022   \n",
       "2                    0.119251  0.837292  0.792357  0.807071  0.846863   \n",
       "3                    0.171734  0.767238  0.646000  0.663429  0.761619   \n",
       "4                    0.075009  0.961919  0.949307  0.942531  0.966627   \n",
       "..                        ...       ...       ...       ...       ...   \n",
       "395                  0.179899  0.770893  0.765179  0.768214  0.697202   \n",
       "396                  0.018734  0.999768  0.950167  0.877835  0.957931   \n",
       "397                  0.042820  0.982605  0.962633  0.970795  0.979193   \n",
       "398                  0.000000  0.994850  0.983450  0.993950  0.994550   \n",
       "399                  0.138320  0.949768  0.836005  0.858469  0.973110   \n",
       "\n",
       "       RF.acc  \n",
       "0    1.000000  \n",
       "1    0.848485  \n",
       "2    0.866887  \n",
       "3    0.785238  \n",
       "4    0.965199  \n",
       "..        ...  \n",
       "395  0.798333  \n",
       "396  0.989701  \n",
       "397  0.986998  \n",
       "398  0.988250  \n",
       "399  0.888952  \n",
       "\n",
       "[400 rows x 8 columns]"
      ]
     },
     "execution_count": 3,
     "metadata": {},
     "output_type": "execute_result"
    }
   ],
   "source": [
    "#remove as colunas referentes às medidas f1m e auc\n",
    "data.drop(data.filter(regex='(.*?\\.auc|.*?\\.f1m)').columns, axis=1, inplace=True)\n",
    "data.loc[:, ['landmarking.randomNode.sd', 'landmarking.worstNode.mean', 'landmarking.worstNode.sd', 'ANN.acc', \n",
    "             'C4.5.acc', 'kNN.acc', 'SVM.acc', 'RF.acc']]"
   ]
  },
  {
   "cell_type": "code",
   "execution_count": 4,
   "metadata": {},
   "outputs": [
    {
     "data": {
      "text/html": [
       "<div>\n",
       "<style scoped>\n",
       "    .dataframe tbody tr th:only-of-type {\n",
       "        vertical-align: middle;\n",
       "    }\n",
       "\n",
       "    .dataframe tbody tr th {\n",
       "        vertical-align: top;\n",
       "    }\n",
       "\n",
       "    .dataframe thead th {\n",
       "        text-align: right;\n",
       "    }\n",
       "</style>\n",
       "<table border=\"1\" class=\"dataframe\">\n",
       "  <thead>\n",
       "    <tr style=\"text-align: right;\">\n",
       "      <th></th>\n",
       "      <th>landmarking.randomNode.mean</th>\n",
       "      <th>landmarking.randomNode.sd</th>\n",
       "      <th>landmarking.worstNode.mean</th>\n",
       "      <th>landmarking.worstNode.sd</th>\n",
       "      <th>Class</th>\n",
       "    </tr>\n",
       "  </thead>\n",
       "  <tbody>\n",
       "    <tr>\n",
       "      <th>0</th>\n",
       "      <td>0.655297</td>\n",
       "      <td>0.089963</td>\n",
       "      <td>0.617662</td>\n",
       "      <td>0.076761</td>\n",
       "      <td>RF.acc</td>\n",
       "    </tr>\n",
       "    <tr>\n",
       "      <th>1</th>\n",
       "      <td>0.593000</td>\n",
       "      <td>0.123754</td>\n",
       "      <td>0.560536</td>\n",
       "      <td>0.119251</td>\n",
       "      <td>RF.acc</td>\n",
       "    </tr>\n",
       "    <tr>\n",
       "      <th>2</th>\n",
       "      <td>0.569762</td>\n",
       "      <td>0.160420</td>\n",
       "      <td>0.639048</td>\n",
       "      <td>0.171734</td>\n",
       "      <td>RF.acc</td>\n",
       "    </tr>\n",
       "    <tr>\n",
       "      <th>3</th>\n",
       "      <td>0.674139</td>\n",
       "      <td>0.110580</td>\n",
       "      <td>0.604069</td>\n",
       "      <td>0.075009</td>\n",
       "      <td>SVM.acc</td>\n",
       "    </tr>\n",
       "    <tr>\n",
       "      <th>4</th>\n",
       "      <td>0.648228</td>\n",
       "      <td>0.142807</td>\n",
       "      <td>0.643772</td>\n",
       "      <td>0.147598</td>\n",
       "      <td>ANN.acc</td>\n",
       "    </tr>\n",
       "    <tr>\n",
       "      <th>...</th>\n",
       "      <td>...</td>\n",
       "      <td>...</td>\n",
       "      <td>...</td>\n",
       "      <td>...</td>\n",
       "      <td>...</td>\n",
       "    </tr>\n",
       "    <tr>\n",
       "      <th>378</th>\n",
       "      <td>0.676190</td>\n",
       "      <td>0.160472</td>\n",
       "      <td>0.636310</td>\n",
       "      <td>0.179899</td>\n",
       "      <td>RF.acc</td>\n",
       "    </tr>\n",
       "    <tr>\n",
       "      <th>379</th>\n",
       "      <td>0.700249</td>\n",
       "      <td>0.018734</td>\n",
       "      <td>0.700249</td>\n",
       "      <td>0.018734</td>\n",
       "      <td>ANN.acc</td>\n",
       "    </tr>\n",
       "    <tr>\n",
       "      <th>380</th>\n",
       "      <td>0.752254</td>\n",
       "      <td>0.041359</td>\n",
       "      <td>0.742169</td>\n",
       "      <td>0.042820</td>\n",
       "      <td>RF.acc</td>\n",
       "    </tr>\n",
       "    <tr>\n",
       "      <th>381</th>\n",
       "      <td>0.903000</td>\n",
       "      <td>0.008433</td>\n",
       "      <td>0.900000</td>\n",
       "      <td>0.000000</td>\n",
       "      <td>ANN.acc</td>\n",
       "    </tr>\n",
       "    <tr>\n",
       "      <th>382</th>\n",
       "      <td>0.647893</td>\n",
       "      <td>0.107194</td>\n",
       "      <td>0.672759</td>\n",
       "      <td>0.138320</td>\n",
       "      <td>SVM.acc</td>\n",
       "    </tr>\n",
       "  </tbody>\n",
       "</table>\n",
       "<p>383 rows × 5 columns</p>\n",
       "</div>"
      ],
      "text/plain": [
       "     landmarking.randomNode.mean  landmarking.randomNode.sd  \\\n",
       "0                       0.655297                   0.089963   \n",
       "1                       0.593000                   0.123754   \n",
       "2                       0.569762                   0.160420   \n",
       "3                       0.674139                   0.110580   \n",
       "4                       0.648228                   0.142807   \n",
       "..                           ...                        ...   \n",
       "378                     0.676190                   0.160472   \n",
       "379                     0.700249                   0.018734   \n",
       "380                     0.752254                   0.041359   \n",
       "381                     0.903000                   0.008433   \n",
       "382                     0.647893                   0.107194   \n",
       "\n",
       "     landmarking.worstNode.mean  landmarking.worstNode.sd    Class  \n",
       "0                      0.617662                  0.076761   RF.acc  \n",
       "1                      0.560536                  0.119251   RF.acc  \n",
       "2                      0.639048                  0.171734   RF.acc  \n",
       "3                      0.604069                  0.075009  SVM.acc  \n",
       "4                      0.643772                  0.147598  ANN.acc  \n",
       "..                          ...                       ...      ...  \n",
       "378                    0.636310                  0.179899   RF.acc  \n",
       "379                    0.700249                  0.018734  ANN.acc  \n",
       "380                    0.742169                  0.042820   RF.acc  \n",
       "381                    0.900000                  0.000000  ANN.acc  \n",
       "382                    0.672759                  0.138320  SVM.acc  \n",
       "\n",
       "[383 rows x 5 columns]"
      ]
     },
     "execution_count": 4,
     "metadata": {},
     "output_type": "execute_result"
    }
   ],
   "source": [
    "#remove as amostras com empate (com relação à maior acurácia) e determina as classes\n",
    "data = drop_draw_set_class(data.copy())\n",
    "data.loc[:, ['landmarking.randomNode.mean', 'landmarking.randomNode.sd', 'landmarking.worstNode.mean', 'landmarking.worstNode.sd', 'Class']]"
   ]
  },
  {
   "cell_type": "code",
   "execution_count": 5,
   "metadata": {},
   "outputs": [
    {
     "data": {
      "image/png": "[encoded data removed]",
      "text/plain": [
       "<Figure size 432x288 with 1 Axes>"
      ]
     },
     "metadata": {
      "needs_background": "light"
     },
     "output_type": "display_data"
    }
   ],
   "source": [
    "#plota distribuição das classes\n",
    "X = data.drop('Class', axis=1)\n",
    "y = data['Class']\n",
    "\n",
    "vec = list(zip( *[*Counter( y ).items()])) \n",
    "gambs = pd.DataFrame(dict(zip(['lab', 'val'],vec))) \n",
    "ax = gambs.plot.bar(x='lab', y='val', rot=0) \n",
    "plt.show(block=True)"
   ]
  },
  {
   "cell_type": "code",
   "execution_count": 6,
   "metadata": {},
   "outputs": [
    {
     "name": "stdout",
     "output_type": "stream",
     "text": [
      "Fold  0  Id:  0\n"
     ]
    },
    {
     "name": "stderr",
     "output_type": "stream",
     "text": [
      "/home/leomaffei/test/lib/python3.7/site-packages/sklearn/neural_network/_multilayer_perceptron.py:571: ConvergenceWarning: Stochastic Optimizer: Maximum iterations (2000) reached and the optimization hasn't converged yet.\n",
      "  % self.max_iter, ConvergenceWarning)\n"
     ]
    },
    {
     "name": "stdout",
     "output_type": "stream",
     "text": [
      "accuracy: 0.1796875\n",
      "precision:  0.12960151802656544\n",
      "recall:  0.22360294117647062\n",
      "f1_score:  0.13738819866296287\n",
      "precision_recall_fscore_support : \n",
      "\t\n",
      "\t[0.17741935 0.1372549  0.         0.33333333 0.        ]\n",
      "\t[0.55       0.41176471 0.         0.15625    0.        ]\n",
      "\t[0.26829268 0.20588235 0.         0.21276596 0.        ]\n",
      "\t[20 17 54 32  5]\n",
      "Confusion matrix\n"
     ]
    },
    {
     "data": {
      "image/png": "[encoded data removed]",
      "text/plain": [
       "<Figure size 432x288 with 2 Axes>"
      ]
     },
     "metadata": {
      "needs_background": "light"
     },
     "output_type": "display_data"
    },
    {
     "name": "stdout",
     "output_type": "stream",
     "text": [
      "\n",
      " \n",
      "\n",
      "Fold  1  Id:  1\n"
     ]
    },
    {
     "name": "stderr",
     "output_type": "stream",
     "text": [
      "/home/leomaffei/test/lib/python3.7/site-packages/sklearn/neural_network/_multilayer_perceptron.py:571: ConvergenceWarning: Stochastic Optimizer: Maximum iterations (2000) reached and the optimization hasn't converged yet.\n",
      "  % self.max_iter, ConvergenceWarning)\n"
     ]
    },
    {
     "name": "stdout",
     "output_type": "stream",
     "text": [
      "accuracy: 0.1328125\n",
      "precision:  0.0265625\n",
      "recall:  0.2\n",
      "f1_score:  0.04689655172413793\n",
      "precision_recall_fscore_support : \n",
      "\t\n",
      "\t[0.        0.1328125 0.        0.        0.       ]\n",
      "\t[0. 1. 0. 0. 0.]\n",
      "\t[0.         0.23448276 0.         0.         0.        ]\n",
      "\t[20 17 54 32  5]\n",
      "Confusion matrix\n"
     ]
    },
    {
     "data": {
      "image/png": "[encoded data removed]",
      "text/plain": [
       "<Figure size 432x288 with 2 Axes>"
      ]
     },
     "metadata": {
      "needs_background": "light"
     },
     "output_type": "display_data"
    },
    {
     "name": "stdout",
     "output_type": "stream",
     "text": [
      "\n",
      " \n",
      "\n",
      "Fold  2  Id:  2\n"
     ]
    },
    {
     "name": "stderr",
     "output_type": "stream",
     "text": [
      "/home/leomaffei/test/lib/python3.7/site-packages/sklearn/neural_network/_multilayer_perceptron.py:571: ConvergenceWarning: Stochastic Optimizer: Maximum iterations (2000) reached and the optimization hasn't converged yet.\n",
      "  % self.max_iter, ConvergenceWarning)\n"
     ]
    },
    {
     "name": "stdout",
     "output_type": "stream",
     "text": [
      "accuracy: 0.07874015748031496\n",
      "precision:  0.029535232383808098\n",
      "recall:  0.1525\n",
      "f1_score:  0.048702147525676934\n",
      "precision_recall_fscore_support : \n",
      "\t\n",
      "\t[0.         0.13043478 0.         0.         0.01724138]\n",
      "\t[0.     0.5625 0.     0.     0.2   ]\n",
      "\t[0.         0.21176471 0.         0.         0.03174603]\n",
      "\t[21 16 54 31  5]\n",
      "Confusion matrix\n"
     ]
    },
    {
     "data": {
      "image/png": "[encoded data removed]",
      "text/plain": [
       "<Figure size 432x288 with 2 Axes>"
      ]
     },
     "metadata": {
      "needs_background": "light"
     },
     "output_type": "display_data"
    },
    {
     "name": "stdout",
     "output_type": "stream",
     "text": [
      "\n",
      " \n",
      "\n",
      "------------------------\n",
      "Considered classes : All \n",
      "\n",
      "Mean accuracy =  0.0 \n",
      "\n"
     ]
    }
   ],
   "source": [
    "#aplicação do algoritmo Random Forest usando 3-folds cross validation seguido da avaliação das predições\n",
    "\n",
    "rfc = MLPClassifier(hidden_layer_sizes=(2, 4, 2), max_iter = 2000, \n",
    "                    learning_rate_init = 0.000001)\n",
    "k = 0\n",
    "acc = 0\n",
    "acc_sum = 0   \n",
    "n_splits = 3\n",
    "\n",
    "skf = StratifiedKFold(n_splits=n_splits)\n",
    "iii = 0\n",
    "for k, (train_index, test_index) in enumerate(skf.split(X, y)):\n",
    "    print(\"Fold \", k, \" Id: \", iii)\n",
    "    iii += 1\n",
    "    rfc.fit(X.loc[train_index, :].drop('index', axis=1), y.loc[train_index])\n",
    "    y_pred = rfc.predict(X.loc[test_index, :].drop('index', axis=1), )\n",
    "    \n",
    "    show_metrics(y_true=y.loc[test_index], y_pred=y_pred)\n",
    "    #matriz de confusão\n",
    "    print(\"Confusion matrix\")  \n",
    "    disp = plot_confusion_matrix(rfc, X.loc[test_index, :].drop('index', axis=1), y.loc[test_index],\n",
    "                                 display_labels=None,\n",
    "                                 cmap=plt.cm.Blues,\n",
    "                                 normalize=None)\n",
    "    plt.show()\n",
    "    print(\"\\n \\n\")\n",
    "\n",
    "#printa as médias das medidas tiradas nos 10 folds\n",
    "print(\"------------------------\")\n",
    "print(\"Considered classes : All \\n\")\n",
    "print(\"Mean accuracy = \", acc_sum / n_splits, \"\\n\")"
   ]
  },
  {
   "cell_type": "markdown",
   "metadata": {},
   "source": [
    "# Segundo experimento - Classes dois a dois"
   ]
  },
  {
   "cell_type": "code",
   "execution_count": 9,
   "metadata": {},
   "outputs": [
    {
     "name": "stdout",
     "output_type": "stream",
     "text": [
      "Considered classes\n",
      "RF.acc -> 246\n",
      "SVM.acc -> 151\n",
      "\n",
      "\n",
      "Fold  0  Id:  0\n"
     ]
    },
    {
     "name": "stderr",
     "output_type": "stream",
     "text": [
      "/home/leomaffei/test/lib/python3.7/site-packages/sklearn/neural_network/_multilayer_perceptron.py:571: ConvergenceWarning: Stochastic Optimizer: Maximum iterations (10000) reached and the optimization hasn't converged yet.\n",
      "  % self.max_iter, ConvergenceWarning)\n"
     ]
    },
    {
     "name": "stdout",
     "output_type": "stream",
     "text": [
      "accuracy: 0.6015037593984962\n",
      "precision:  0.5773493975903614\n",
      "recall:  0.5767575322812052\n",
      "f1_score:  0.577017701770177\n",
      "precision_recall_fscore_support : \n",
      "\t\n",
      "\t[0.6746988 0.48     ]\n",
      "\t[0.68292683 0.47058824]\n",
      "\t[0.67878788 0.47524752]\n",
      "\t[82 51]\n"
     ]
    },
    {
     "data": {
      "image/png": "[encoded data removed]",
      "text/plain": [
       "<Figure size 432x288 with 2 Axes>"
      ]
     },
     "metadata": {
      "needs_background": "light"
     },
     "output_type": "display_data"
    },
    {
     "name": "stdout",
     "output_type": "stream",
     "text": [
      "\n",
      " \n",
      "\n",
      "Fold  1  Id:  1\n",
      "accuracy: 0.3787878787878788\n",
      "precision:  0.1893939393939394\n",
      "recall:  0.5\n",
      "f1_score:  0.2747252747252747\n",
      "precision_recall_fscore_support : \n",
      "\t\n",
      "\t[0.         0.37878788]\n",
      "\t[0. 1.]\n",
      "\t[0.         0.54945055]\n",
      "\t[82 50]\n"
     ]
    },
    {
     "data": {
      "image/png": "[encoded data removed]",
      "text/plain": [
       "<Figure size 432x288 with 2 Axes>"
      ]
     },
     "metadata": {
      "needs_background": "light"
     },
     "output_type": "display_data"
    },
    {
     "name": "stdout",
     "output_type": "stream",
     "text": [
      "\n",
      " \n",
      "\n",
      "Fold  2  Id:  2\n",
      "accuracy: 0.3712121212121212\n",
      "precision:  0.3527131782945736\n",
      "recall:  0.48609756097560974\n",
      "f1_score:  0.27992113046335854\n",
      "precision_recall_fscore_support : \n",
      "\t\n",
      "\t[0.33333333 0.37209302]\n",
      "\t[0.01219512 0.96      ]\n",
      "\t[0.02352941 0.53631285]\n",
      "\t[82 50]\n"
     ]
    },
    {
     "data": {
      "image/png": "[encoded data removed]",
      "text/plain": [
       "<Figure size 432x288 with 2 Axes>"
      ]
     },
     "metadata": {
      "needs_background": "light"
     },
     "output_type": "display_data"
    },
    {
     "name": "stdout",
     "output_type": "stream",
     "text": [
      "\n",
      " \n",
      "\n",
      "Mean accuracy =  0.45050125313283207 \n",
      "\n",
      "-----------------------\n",
      "\n",
      "Considered classes\n",
      "RF.acc -> 304\n",
      "C4.5.acc -> 89\n",
      "\n",
      "\n",
      "Fold  0  Id:  3\n",
      "accuracy: 0.7786259541984732\n",
      "precision:  0.3893129770992366\n",
      "recall:  0.5\n",
      "f1_score:  0.4377682403433476\n",
      "precision_recall_fscore_support : \n",
      "\t\n",
      "\t[0.         0.77862595]\n",
      "\t[0. 1.]\n",
      "\t[0.         0.87553648]\n",
      "\t[ 29 102]\n"
     ]
    },
    {
     "data": {
      "image/png": "[encoded data removed]",
      "text/plain": [
       "<Figure size 432x288 with 2 Axes>"
      ]
     },
     "metadata": {
      "needs_background": "light"
     },
     "output_type": "display_data"
    },
    {
     "name": "stdout",
     "output_type": "stream",
     "text": [
      "\n",
      " \n",
      "\n",
      "Fold  1  Id:  4\n",
      "accuracy: 0.7022900763358778\n",
      "precision:  0.5657051282051282\n",
      "recall:  0.5608910891089108\n",
      "f1_score:  0.562772785622593\n",
      "precision_recall_fscore_support : \n",
      "\t\n",
      "\t[0.33333333 0.79807692]\n",
      "\t[0.3        0.82178218]\n",
      "\t[0.31578947 0.8097561 ]\n",
      "\t[ 30 101]\n"
     ]
    },
    {
     "name": "stderr",
     "output_type": "stream",
     "text": [
      "/home/leomaffei/test/lib/python3.7/site-packages/sklearn/neural_network/_multilayer_perceptron.py:571: ConvergenceWarning: Stochastic Optimizer: Maximum iterations (10000) reached and the optimization hasn't converged yet.\n",
      "  % self.max_iter, ConvergenceWarning)\n"
     ]
    },
    {
     "data": {
      "image/png": "[encoded data removed]",
      "text/plain": [
       "<Figure size 432x288 with 2 Axes>"
      ]
     },
     "metadata": {
      "needs_background": "light"
     },
     "output_type": "display_data"
    },
    {
     "name": "stdout",
     "output_type": "stream",
     "text": [
      "\n",
      " \n",
      "\n",
      "Fold  2  Id:  5\n"
     ]
    },
    {
     "name": "stderr",
     "output_type": "stream",
     "text": [
      "/home/leomaffei/test/lib/python3.7/site-packages/sklearn/neural_network/_multilayer_perceptron.py:571: ConvergenceWarning: Stochastic Optimizer: Maximum iterations (10000) reached and the optimization hasn't converged yet.\n",
      "  % self.max_iter, ConvergenceWarning)\n"
     ]
    },
    {
     "name": "stdout",
     "output_type": "stream",
     "text": [
      "accuracy: 0.7557251908396947\n",
      "precision:  0.5546666666666666\n",
      "recall:  0.5135313531353135\n",
      "f1_score:  0.48475909537856443\n",
      "precision_recall_fscore_support : \n",
      "\t\n",
      "\t[0.33333333 0.776     ]\n",
      "\t[0.06666667 0.96039604]\n",
      "\t[0.11111111 0.85840708]\n",
      "\t[ 30 101]\n"
     ]
    },
    {
     "data": {
      "image/png": "[encoded data removed]",
      "text/plain": [
       "<Figure size 432x288 with 2 Axes>"
      ]
     },
     "metadata": {
      "needs_background": "light"
     },
     "output_type": "display_data"
    },
    {
     "name": "stdout",
     "output_type": "stream",
     "text": [
      "\n",
      " \n",
      "\n",
      "Mean accuracy =  0.7455470737913487 \n",
      "\n",
      "-----------------------\n",
      "\n",
      "Considered classes\n",
      "SVM.acc -> 230\n",
      "C4.5.acc -> 165\n",
      "\n",
      "\n",
      "Fold  0  Id:  6\n",
      "accuracy: 0.5681818181818182\n",
      "precision:  0.4778225806451613\n",
      "recall:  0.4948051948051948\n",
      "f1_score:  0.40582800284292825\n",
      "precision_recall_fscore_support : \n",
      "\t\n",
      "\t[0.375      0.58064516]\n",
      "\t[0.05454545 0.93506494]\n",
      "\t[0.0952381  0.71641791]\n",
      "\t[55 77]\n"
     ]
    },
    {
     "name": "stderr",
     "output_type": "stream",
     "text": [
      "/home/leomaffei/test/lib/python3.7/site-packages/sklearn/neural_network/_multilayer_perceptron.py:571: ConvergenceWarning: Stochastic Optimizer: Maximum iterations (10000) reached and the optimization hasn't converged yet.\n",
      "  % self.max_iter, ConvergenceWarning)\n"
     ]
    },
    {
     "data": {
      "image/png": "[encoded data removed]",
      "text/plain": [
       "<Figure size 432x288 with 2 Axes>"
      ]
     },
     "metadata": {
      "needs_background": "light"
     },
     "output_type": "display_data"
    },
    {
     "name": "stdout",
     "output_type": "stream",
     "text": [
      "\n",
      " \n",
      "\n",
      "Fold  1  Id:  7\n",
      "accuracy: 0.5833333333333334\n",
      "precision:  0.2916666666666667\n",
      "recall:  0.5\n",
      "f1_score:  0.3684210526315789\n",
      "precision_recall_fscore_support : \n",
      "\t\n",
      "\t[0.         0.58333333]\n",
      "\t[0. 1.]\n",
      "\t[0.         0.73684211]\n",
      "\t[55 77]\n"
     ]
    },
    {
     "name": "stderr",
     "output_type": "stream",
     "text": [
      "/home/leomaffei/test/lib/python3.7/site-packages/sklearn/neural_network/_multilayer_perceptron.py:571: ConvergenceWarning: Stochastic Optimizer: Maximum iterations (10000) reached and the optimization hasn't converged yet.\n",
      "  % self.max_iter, ConvergenceWarning)\n"
     ]
    },
    {
     "data": {
      "image/png": "[encoded data removed]",
      "text/plain": [
       "<Figure size 432x288 with 2 Axes>"
      ]
     },
     "metadata": {
      "needs_background": "light"
     },
     "output_type": "display_data"
    },
    {
     "name": "stdout",
     "output_type": "stream",
     "text": [
      "\n",
      " \n",
      "\n",
      "Fold  2  Id:  8\n",
      "accuracy: 0.4198473282442748\n",
      "precision:  0.2099236641221374\n",
      "recall:  0.5\n",
      "f1_score:  0.2956989247311828\n",
      "precision_recall_fscore_support : \n",
      "\t\n",
      "\t[0.41984733 0.        ]\n",
      "\t[1. 0.]\n",
      "\t[0.59139785 0.        ]\n",
      "\t[55 76]\n"
     ]
    },
    {
     "name": "stderr",
     "output_type": "stream",
     "text": [
      "/home/leomaffei/test/lib/python3.7/site-packages/sklearn/neural_network/_multilayer_perceptron.py:571: ConvergenceWarning: Stochastic Optimizer: Maximum iterations (10000) reached and the optimization hasn't converged yet.\n",
      "  % self.max_iter, ConvergenceWarning)\n"
     ]
    },
    {
     "data": {
      "image/png": "[encoded data removed]",
      "text/plain": [
       "<Figure size 432x288 with 2 Axes>"
      ]
     },
     "metadata": {
      "needs_background": "light"
     },
     "output_type": "display_data"
    },
    {
     "name": "stdout",
     "output_type": "stream",
     "text": [
      "\n",
      " \n",
      "\n",
      "Mean accuracy =  0.5237874932531421 \n",
      "\n",
      "-----------------------\n",
      "\n",
      "Considered classes\n",
      "RF.acc -> 347\n",
      "kNN.acc -> 49\n",
      "\n",
      "\n",
      "Fold  0  Id:  9\n",
      "accuracy: 0.8787878787878788\n",
      "precision:  0.4393939393939394\n",
      "recall:  0.5\n",
      "f1_score:  0.46774193548387094\n",
      "precision_recall_fscore_support : \n",
      "\t\n",
      "\t[0.87878788 0.        ]\n",
      "\t[1. 0.]\n",
      "\t[0.93548387 0.        ]\n",
      "\t[116  16]\n"
     ]
    },
    {
     "data": {
      "image/png": "[encoded data removed]",
      "text/plain": [
       "<Figure size 432x288 with 2 Axes>"
      ]
     },
     "metadata": {
      "needs_background": "light"
     },
     "output_type": "display_data"
    },
    {
     "name": "stdout",
     "output_type": "stream",
     "text": [
      "\n",
      " \n",
      "\n",
      "Fold  1  Id:  10\n",
      "accuracy: 0.11363636363636363\n",
      "precision:  0.22093023255813954\n",
      "recall:  0.4418103448275862\n",
      "f1_score:  0.10495508548246885\n",
      "precision_recall_fscore_support : \n",
      "\t\n",
      "\t[0.33333333 0.10852713]\n",
      "\t[0.00862069 0.875     ]\n",
      "\t[0.01680672 0.19310345]\n",
      "\t[116  16]\n"
     ]
    },
    {
     "data": {
      "image/png": "[encoded data removed]",
      "text/plain": [
       "<Figure size 432x288 with 2 Axes>"
      ]
     },
     "metadata": {
      "needs_background": "light"
     },
     "output_type": "display_data"
    },
    {
     "name": "stdout",
     "output_type": "stream",
     "text": [
      "\n",
      " \n",
      "\n",
      "Fold  2  Id:  11\n",
      "accuracy: 0.8712121212121212\n",
      "precision:  0.4356060606060606\n",
      "recall:  0.5\n",
      "f1_score:  0.46558704453441296\n",
      "precision_recall_fscore_support : \n",
      "\t\n",
      "\t[0.87121212 0.        ]\n",
      "\t[1. 0.]\n",
      "\t[0.93117409 0.        ]\n",
      "\t[115  17]\n"
     ]
    },
    {
     "data": {
      "image/png": "[encoded data removed]",
      "text/plain": [
       "<Figure size 432x288 with 2 Axes>"
      ]
     },
     "metadata": {
      "needs_background": "light"
     },
     "output_type": "display_data"
    },
    {
     "name": "stdout",
     "output_type": "stream",
     "text": [
      "\n",
      " \n",
      "\n",
      "Mean accuracy =  0.6212121212121212 \n",
      "\n",
      "-----------------------\n",
      "\n",
      "Considered classes\n",
      "kNN.acc -> 79\n",
      "SVM.acc -> 317\n",
      "\n",
      "\n",
      "Fold  0  Id:  12\n"
     ]
    },
    {
     "name": "stderr",
     "output_type": "stream",
     "text": [
      "/home/leomaffei/test/lib/python3.7/site-packages/sklearn/neural_network/_multilayer_perceptron.py:571: ConvergenceWarning: Stochastic Optimizer: Maximum iterations (10000) reached and the optimization hasn't converged yet.\n",
      "  % self.max_iter, ConvergenceWarning)\n"
     ]
    },
    {
     "name": "stdout",
     "output_type": "stream",
     "text": [
      "accuracy: 0.7575757575757576\n",
      "precision:  0.557207498383969\n",
      "recall:  0.5312169312169313\n",
      "f1_score:  0.5285714285714285\n",
      "precision_recall_fscore_support : \n",
      "\t\n",
      "\t[0.80672269 0.30769231]\n",
      "\t[0.91428571 0.14814815]\n",
      "\t[0.85714286 0.2       ]\n",
      "\t[105  27]\n"
     ]
    },
    {
     "data": {
      "image/png": "[encoded data removed]",
      "text/plain": [
       "<Figure size 432x288 with 2 Axes>"
      ]
     },
     "metadata": {
      "needs_background": "light"
     },
     "output_type": "display_data"
    },
    {
     "name": "stdout",
     "output_type": "stream",
     "text": [
      "\n",
      " \n",
      "\n",
      "Fold  1  Id:  13\n",
      "accuracy: 0.803030303030303\n",
      "precision:  0.4015151515151515\n",
      "recall:  0.5\n",
      "f1_score:  0.4453781512605042\n",
      "precision_recall_fscore_support : \n",
      "\t\n",
      "\t[0.8030303 0.       ]\n",
      "\t[1. 0.]\n",
      "\t[0.8907563 0.       ]\n",
      "\t[106  26]\n"
     ]
    },
    {
     "data": {
      "image/png": "[encoded data removed]",
      "text/plain": [
       "<Figure size 432x288 with 2 Axes>"
      ]
     },
     "metadata": {
      "needs_background": "light"
     },
     "output_type": "display_data"
    },
    {
     "name": "stdout",
     "output_type": "stream",
     "text": [
      "\n",
      " \n",
      "\n",
      "Fold  2  Id:  14\n",
      "accuracy: 0.19696969696969696\n",
      "precision:  0.09848484848484848\n",
      "recall:  0.5\n",
      "f1_score:  0.16455696202531644\n",
      "precision_recall_fscore_support : \n",
      "\t\n",
      "\t[0.        0.1969697]\n",
      "\t[0. 1.]\n",
      "\t[0.         0.32911392]\n",
      "\t[106  26]\n"
     ]
    },
    {
     "data": {
      "image/png": "[encoded data removed]",
      "text/plain": [
       "<Figure size 432x288 with 2 Axes>"
      ]
     },
     "metadata": {
      "needs_background": "light"
     },
     "output_type": "display_data"
    },
    {
     "name": "stdout",
     "output_type": "stream",
     "text": [
      "\n",
      " \n",
      "\n",
      "Mean accuracy =  0.5858585858585859 \n",
      "\n",
      "-----------------------\n",
      "\n",
      "Considered classes\n",
      "kNN.acc -> 120\n",
      "C4.5.acc -> 277\n",
      "\n",
      "\n",
      "Fold  0  Id:  15\n",
      "accuracy: 0.3007518796992481\n",
      "precision:  0.15037593984962405\n",
      "recall:  0.5\n",
      "f1_score:  0.23121387283236994\n",
      "precision_recall_fscore_support : \n",
      "\t\n",
      "\t[0.         0.30075188]\n",
      "\t[0. 1.]\n",
      "\t[0.         0.46242775]\n",
      "\t[93 40]\n"
     ]
    },
    {
     "name": "stderr",
     "output_type": "stream",
     "text": [
      "/home/leomaffei/test/lib/python3.7/site-packages/sklearn/neural_network/_multilayer_perceptron.py:571: ConvergenceWarning: Stochastic Optimizer: Maximum iterations (10000) reached and the optimization hasn't converged yet.\n",
      "  % self.max_iter, ConvergenceWarning)\n"
     ]
    },
    {
     "data": {
      "image/png": "[encoded data removed]",
      "text/plain": [
       "<Figure size 432x288 with 2 Axes>"
      ]
     },
     "metadata": {
      "needs_background": "light"
     },
     "output_type": "display_data"
    },
    {
     "name": "stdout",
     "output_type": "stream",
     "text": [
      "\n",
      " \n",
      "\n",
      "Fold  1  Id:  16\n",
      "accuracy: 0.30303030303030304\n",
      "precision:  0.4\n",
      "recall:  0.49293478260869567\n",
      "f1_score:  0.24005006257822276\n",
      "precision_recall_fscore_support : \n",
      "\t\n",
      "\t[0.5 0.3]\n",
      "\t[0.01086957 0.975     ]\n",
      "\t[0.0212766  0.45882353]\n",
      "\t[92 40]\n"
     ]
    },
    {
     "name": "stderr",
     "output_type": "stream",
     "text": [
      "/home/leomaffei/test/lib/python3.7/site-packages/sklearn/neural_network/_multilayer_perceptron.py:571: ConvergenceWarning: Stochastic Optimizer: Maximum iterations (10000) reached and the optimization hasn't converged yet.\n",
      "  % self.max_iter, ConvergenceWarning)\n"
     ]
    },
    {
     "data": {
      "image/png": "[encoded data removed]",
      "text/plain": [
       "<Figure size 432x288 with 2 Axes>"
      ]
     },
     "metadata": {
      "needs_background": "light"
     },
     "output_type": "display_data"
    },
    {
     "name": "stdout",
     "output_type": "stream",
     "text": [
      "\n",
      " \n",
      "\n",
      "Fold  2  Id:  17\n",
      "accuracy: 0.696969696969697\n",
      "precision:  0.3484848484848485\n",
      "recall:  0.5\n",
      "f1_score:  0.41071428571428575\n",
      "precision_recall_fscore_support : \n",
      "\t\n",
      "\t[0.6969697 0.       ]\n",
      "\t[1. 0.]\n",
      "\t[0.82142857 0.        ]\n",
      "\t[92 40]\n"
     ]
    },
    {
     "data": {
      "image/png": "[encoded data removed]",
      "text/plain": [
       "<Figure size 432x288 with 2 Axes>"
      ]
     },
     "metadata": {
      "needs_background": "light"
     },
     "output_type": "display_data"
    },
    {
     "name": "stdout",
     "output_type": "stream",
     "text": [
      "\n",
      " \n",
      "\n",
      "Mean accuracy =  0.43358395989974935 \n",
      "\n",
      "-----------------------\n",
      "\n",
      "Considered classes\n",
      "RF.acc -> 271\n",
      "ANN.acc -> 118\n",
      "\n",
      "\n",
      "Fold  0  Id:  18\n",
      "accuracy: 0.7\n",
      "precision:  0.35\n",
      "recall:  0.5\n",
      "f1_score:  0.4117647058823529\n",
      "precision_recall_fscore_support : \n",
      "\t\n",
      "\t[0.  0.7]\n",
      "\t[0. 1.]\n",
      "\t[0.         0.82352941]\n",
      "\t[39 91]\n"
     ]
    },
    {
     "name": "stderr",
     "output_type": "stream",
     "text": [
      "/home/leomaffei/test/lib/python3.7/site-packages/sklearn/neural_network/_multilayer_perceptron.py:571: ConvergenceWarning: Stochastic Optimizer: Maximum iterations (10000) reached and the optimization hasn't converged yet.\n",
      "  % self.max_iter, ConvergenceWarning)\n"
     ]
    },
    {
     "data": {
      "image/png": "[encoded data removed]",
      "text/plain": [
       "<Figure size 432x288 with 2 Axes>"
      ]
     },
     "metadata": {
      "needs_background": "light"
     },
     "output_type": "display_data"
    },
    {
     "name": "stdout",
     "output_type": "stream",
     "text": [
      "\n",
      " \n",
      "\n",
      "Fold  1  Id:  19\n",
      "accuracy: 0.36153846153846153\n",
      "precision:  0.46044588277597986\n",
      "recall:  0.46944444444444444\n",
      "f1_score:  0.3550893550893551\n",
      "precision_recall_fscore_support : \n",
      "\t\n",
      "\t[0.29126214 0.62962963]\n",
      "\t[0.75       0.18888889]\n",
      "\t[0.41958042 0.29059829]\n",
      "\t[40 90]\n"
     ]
    },
    {
     "name": "stderr",
     "output_type": "stream",
     "text": [
      "/home/leomaffei/test/lib/python3.7/site-packages/sklearn/neural_network/_multilayer_perceptron.py:571: ConvergenceWarning: Stochastic Optimizer: Maximum iterations (10000) reached and the optimization hasn't converged yet.\n",
      "  % self.max_iter, ConvergenceWarning)\n"
     ]
    },
    {
     "data": {
      "image/png": "[encoded data removed]",
      "text/plain": [
       "<Figure size 432x288 with 2 Axes>"
      ]
     },
     "metadata": {
      "needs_background": "light"
     },
     "output_type": "display_data"
    },
    {
     "name": "stdout",
     "output_type": "stream",
     "text": [
      "\n",
      " \n",
      "\n",
      "Fold  2  Id:  20\n",
      "accuracy: 0.3023255813953488\n",
      "precision:  0.1511627906976744\n",
      "recall:  0.5\n",
      "f1_score:  0.23214285714285712\n",
      "precision_recall_fscore_support : \n",
      "\t\n",
      "\t[0.30232558 0.        ]\n",
      "\t[1. 0.]\n",
      "\t[0.46428571 0.        ]\n",
      "\t[39 90]\n"
     ]
    },
    {
     "data": {
      "image/png": "[encoded data removed]",
      "text/plain": [
       "<Figure size 432x288 with 2 Axes>"
      ]
     },
     "metadata": {
      "needs_background": "light"
     },
     "output_type": "display_data"
    },
    {
     "name": "stdout",
     "output_type": "stream",
     "text": [
      "\n",
      " \n",
      "\n",
      "Mean accuracy =  0.45462134764460344 \n",
      "\n",
      "-----------------------\n",
      "\n",
      "Considered classes\n",
      "SVM.acc -> 225\n",
      "ANN.acc -> 170\n",
      "\n",
      "\n",
      "Fold  0  Id:  21\n",
      "accuracy: 0.4696969696969697\n",
      "precision:  0.43846354847138747\n",
      "recall:  0.44491228070175437\n",
      "f1_score:  0.4365853658536586\n",
      "precision_recall_fscore_support : \n",
      "\t\n",
      "\t[0.34883721 0.52808989]\n",
      "\t[0.26315789 0.62666667]\n",
      "\t[0.3        0.57317073]\n",
      "\t[57 75]\n"
     ]
    },
    {
     "name": "stderr",
     "output_type": "stream",
     "text": [
      "/home/leomaffei/test/lib/python3.7/site-packages/sklearn/neural_network/_multilayer_perceptron.py:571: ConvergenceWarning: Stochastic Optimizer: Maximum iterations (10000) reached and the optimization hasn't converged yet.\n",
      "  % self.max_iter, ConvergenceWarning)\n"
     ]
    },
    {
     "data": {
      "image/png": "[encoded data removed]",
      "text/plain": [
       "<Figure size 432x288 with 2 Axes>"
      ]
     },
     "metadata": {
      "needs_background": "light"
     },
     "output_type": "display_data"
    },
    {
     "name": "stdout",
     "output_type": "stream",
     "text": [
      "\n",
      " \n",
      "\n",
      "Fold  1  Id:  22\n"
     ]
    },
    {
     "name": "stderr",
     "output_type": "stream",
     "text": [
      "/home/leomaffei/test/lib/python3.7/site-packages/sklearn/neural_network/_multilayer_perceptron.py:571: ConvergenceWarning: Stochastic Optimizer: Maximum iterations (10000) reached and the optimization hasn't converged yet.\n",
      "  % self.max_iter, ConvergenceWarning)\n"
     ]
    },
    {
     "name": "stdout",
     "output_type": "stream",
     "text": [
      "accuracy: 0.5681818181818182\n",
      "precision:  0.2840909090909091\n",
      "recall:  0.5\n",
      "f1_score:  0.36231884057971014\n",
      "precision_recall_fscore_support : \n",
      "\t\n",
      "\t[0.         0.56818182]\n",
      "\t[0. 1.]\n",
      "\t[0.         0.72463768]\n",
      "\t[57 75]\n"
     ]
    },
    {
     "data": {
      "image/png": "[encoded data removed]",
      "text/plain": [
       "<Figure size 432x288 with 2 Axes>"
      ]
     },
     "metadata": {
      "needs_background": "light"
     },
     "output_type": "display_data"
    },
    {
     "name": "stdout",
     "output_type": "stream",
     "text": [
      "\n",
      " \n",
      "\n",
      "Fold  2  Id:  23\n",
      "accuracy: 0.42748091603053434\n",
      "precision:  0.21374045801526717\n",
      "recall:  0.5\n",
      "f1_score:  0.2994652406417112\n",
      "precision_recall_fscore_support : \n",
      "\t\n",
      "\t[0.42748092 0.        ]\n",
      "\t[1. 0.]\n",
      "\t[0.59893048 0.        ]\n",
      "\t[56 75]\n"
     ]
    },
    {
     "data": {
      "image/png": "[encoded data removed]",
      "text/plain": [
       "<Figure size 432x288 with 2 Axes>"
      ]
     },
     "metadata": {
      "needs_background": "light"
     },
     "output_type": "display_data"
    },
    {
     "name": "stdout",
     "output_type": "stream",
     "text": [
      "\n",
      " \n",
      "\n",
      "Mean accuracy =  0.4884532346364408 \n",
      "\n",
      "-----------------------\n",
      "\n",
      "Considered classes\n",
      "ANN.acc -> 214\n",
      "C4.5.acc -> 178\n",
      "\n",
      "\n",
      "Fold  0  Id:  24\n",
      "accuracy: 0.5725190839694656\n",
      "precision:  0.78125\n",
      "recall:  0.5254237288135594\n",
      "f1_score:  0.40838709677419355\n",
      "precision_recall_fscore_support : \n",
      "\t\n",
      "\t[0.5625 1.    ]\n",
      "\t[1.         0.05084746]\n",
      "\t[0.72       0.09677419]\n",
      "\t[72 59]\n"
     ]
    },
    {
     "name": "stderr",
     "output_type": "stream",
     "text": [
      "/home/leomaffei/test/lib/python3.7/site-packages/sklearn/neural_network/_multilayer_perceptron.py:571: ConvergenceWarning: Stochastic Optimizer: Maximum iterations (10000) reached and the optimization hasn't converged yet.\n",
      "  % self.max_iter, ConvergenceWarning)\n"
     ]
    },
    {
     "data": {
      "image/png": "[encoded data removed]",
      "text/plain": [
       "<Figure size 432x288 with 2 Axes>"
      ]
     },
     "metadata": {
      "needs_background": "light"
     },
     "output_type": "display_data"
    },
    {
     "name": "stdout",
     "output_type": "stream",
     "text": [
      "\n",
      " \n",
      "\n",
      "Fold  1  Id:  25\n",
      "accuracy: 0.5343511450381679\n",
      "precision:  0.2692307692307692\n",
      "recall:  0.49295774647887325\n",
      "f1_score:  0.3482587064676617\n",
      "precision_recall_fscore_support : \n",
      "\t\n",
      "\t[0.53846154 0.        ]\n",
      "\t[0.98591549 0.        ]\n",
      "\t[0.69651741 0.        ]\n",
      "\t[71 60]\n"
     ]
    },
    {
     "name": "stderr",
     "output_type": "stream",
     "text": [
      "/home/leomaffei/test/lib/python3.7/site-packages/sklearn/neural_network/_multilayer_perceptron.py:571: ConvergenceWarning: Stochastic Optimizer: Maximum iterations (10000) reached and the optimization hasn't converged yet.\n",
      "  % self.max_iter, ConvergenceWarning)\n"
     ]
    },
    {
     "data": {
      "image/png": "[encoded data removed]",
      "text/plain": [
       "<Figure size 432x288 with 2 Axes>"
      ]
     },
     "metadata": {
      "needs_background": "light"
     },
     "output_type": "display_data"
    },
    {
     "name": "stdout",
     "output_type": "stream",
     "text": [
      "\n",
      " \n",
      "\n",
      "Fold  2  Id:  26\n",
      "accuracy: 0.47692307692307695\n",
      "precision:  0.519203413940256\n",
      "recall:  0.5096681785629028\n",
      "f1_score:  0.4222222222222223\n",
      "precision_recall_fscore_support : \n",
      "\t\n",
      "\t[0.57894737 0.45945946]\n",
      "\t[0.15492958 0.86440678]\n",
      "\t[0.24444444 0.6       ]\n",
      "\t[71 59]\n"
     ]
    },
    {
     "name": "stderr",
     "output_type": "stream",
     "text": [
      "/home/leomaffei/test/lib/python3.7/site-packages/sklearn/neural_network/_multilayer_perceptron.py:571: ConvergenceWarning: Stochastic Optimizer: Maximum iterations (10000) reached and the optimization hasn't converged yet.\n",
      "  % self.max_iter, ConvergenceWarning)\n"
     ]
    },
    {
     "data": {
      "image/png": "[encoded data removed]",
      "text/plain": [
       "<Figure size 432x288 with 2 Axes>"
      ]
     },
     "metadata": {
      "needs_background": "light"
     },
     "output_type": "display_data"
    },
    {
     "name": "stdout",
     "output_type": "stream",
     "text": [
      "\n",
      " \n",
      "\n",
      "Mean accuracy =  0.5279311019769035 \n",
      "\n",
      "-----------------------\n",
      "\n",
      "Considered classes\n",
      "kNN.acc -> 82\n",
      "ANN.acc -> 313\n",
      "\n",
      "\n",
      "Fold  0  Id:  27\n",
      "accuracy: 0.21212121212121213\n",
      "precision:  0.10606060606060606\n",
      "recall:  0.5\n",
      "f1_score:  0.175\n",
      "precision_recall_fscore_support : \n",
      "\t\n",
      "\t[0.         0.21212121]\n",
      "\t[0. 1.]\n",
      "\t[0.   0.35]\n",
      "\t[104  28]\n"
     ]
    },
    {
     "data": {
      "image/png": "[encoded data removed]",
      "text/plain": [
       "<Figure size 432x288 with 2 Axes>"
      ]
     },
     "metadata": {
      "needs_background": "light"
     },
     "output_type": "display_data"
    },
    {
     "name": "stdout",
     "output_type": "stream",
     "text": [
      "\n",
      " \n",
      "\n",
      "Fold  1  Id:  28\n",
      "accuracy: 0.5833333333333334\n",
      "precision:  0.5029761904761905\n",
      "recall:  0.5042328042328041\n",
      "f1_score:  0.48783068783068784\n",
      "precision_recall_fscore_support : \n",
      "\t\n",
      "\t[0.79761905 0.20833333]\n",
      "\t[0.63809524 0.37037037]\n",
      "\t[0.70899471 0.26666667]\n",
      "\t[105  27]\n"
     ]
    },
    {
     "data": {
      "image/png": "[encoded data removed]",
      "text/plain": [
       "<Figure size 432x288 with 2 Axes>"
      ]
     },
     "metadata": {
      "needs_background": "light"
     },
     "output_type": "display_data"
    },
    {
     "name": "stdout",
     "output_type": "stream",
     "text": [
      "\n",
      " \n",
      "\n",
      "Fold  2  Id:  29\n",
      "accuracy: 0.7938931297709924\n",
      "precision:  0.3969465648854962\n",
      "recall:  0.5\n",
      "f1_score:  0.4425531914893617\n",
      "precision_recall_fscore_support : \n",
      "\t\n",
      "\t[0.79389313 0.        ]\n",
      "\t[1. 0.]\n",
      "\t[0.88510638 0.        ]\n",
      "\t[104  27]\n"
     ]
    },
    {
     "data": {
      "image/png": "[encoded data removed]",
      "text/plain": [
       "<Figure size 432x288 with 2 Axes>"
      ]
     },
     "metadata": {
      "needs_background": "light"
     },
     "output_type": "display_data"
    },
    {
     "name": "stdout",
     "output_type": "stream",
     "text": [
      "\n",
      " \n",
      "\n",
      "Mean accuracy =  0.5297825584085126 \n",
      "\n",
      "-----------------------\n",
      "\n"
     ]
    }
   ],
   "source": [
    "from sklearn.metrics import precision_recall_fscore_support\n",
    "reload(aux)\n",
    "comb_to_drop = list(combinations(ALL_ACC, r=3))\n",
    "raw = pd.read_csv('meta-base.csv')\n",
    "\n",
    "acc_mean_list = []\n",
    "#para cada combinação de 3 colunas, dropa essas 3 deixando 2 colunas para o problema de classificação\n",
    "#faz o pre_processamento do dataframe passando as colunas consideradas\n",
    "# (retira os empates e seta as classes)\n",
    "# divide o data em features e rótulo e divide os folds\n",
    "iii = 0\n",
    "for to_drop in comb_to_drop:\n",
    "    data = raw.drop(list(to_drop), axis=1)\n",
    "    considered_classes = ALL_ACC_SET - set(to_drop)\n",
    "    data = preprocess_default(data, list(considered_classes))\n",
    "    rfc = MLPClassifier(hidden_layer_sizes=(2, 4, 2), max_iter = 10000, \n",
    "                        learning_rate_init = 0.00001) \n",
    "    X = data.drop('Class', axis=1)\n",
    "    y = data['Class']\n",
    "    n_splits = 3\n",
    "    skf = StratifiedKFold(n_splits=n_splits)\n",
    "    acc_list = []\n",
    "    print(\"Considered classes\")\n",
    "    print_counter(y)\n",
    "    print(\"\\n\")\n",
    "    \n",
    "    for k, (train_index, test_index) in enumerate(skf.split(X, y)):\n",
    "        print(\"Fold \", k, \" Id: \", iii)\n",
    "        iii += 1\n",
    "        rfc.fit(X.loc[train_index, :], y.loc[train_index])\n",
    "        y_pred = rfc.predict(X.loc[test_index, :], )\n",
    "        \n",
    "        acc_list.append(accuracy_score(y_true=y.loc[test_index], y_pred=y_pred))\n",
    "        \n",
    "        aux.show_metrics(y_true=y.loc[test_index], y_pred=y_pred)\n",
    "        \n",
    "        #matriz de confusão\n",
    "        disp = plot_confusion_matrix(rfc, X.loc[test_index, :], y.loc[test_index],\n",
    "                                 display_labels=None,\n",
    "                                 cmap=plt.cm.Blues,\n",
    "                                 normalize=None)\n",
    "        plt.show()\n",
    "        print(\"\\n \\n\")\n",
    "\n",
    "    print(\"Mean accuracy = \", np.mean(acc_list) , \"\\n\")\n",
    "    acc_mean_list.append(np.mean(acc_list))\n",
    "    print(\"-----------------------\\n\")\n",
    " \n",
    "    "
   ]
  },
  {
   "cell_type": "markdown",
   "metadata": {},
   "source": [
    "# Terceiro experimento - Random Forest x Outros"
   ]
  },
  {
   "cell_type": "code",
   "execution_count": 11,
   "metadata": {
    "scrolled": true
   },
   "outputs": [
    {
     "name": "stdout",
     "output_type": "stream",
     "text": [
      "Considered classes\n",
      "RF.acc -> 162\n",
      "Other -> 221\n",
      "\n",
      "\n",
      "Fold  0  Id:  0\n"
     ]
    },
    {
     "name": "stderr",
     "output_type": "stream",
     "text": [
      "/home/leomaffei/test/lib/python3.7/site-packages/sklearn/neural_network/_multilayer_perceptron.py:571: ConvergenceWarning: Stochastic Optimizer: Maximum iterations (15000) reached and the optimization hasn't converged yet.\n",
      "  % self.max_iter, ConvergenceWarning)\n"
     ]
    },
    {
     "name": "stdout",
     "output_type": "stream",
     "text": [
      "accuracy: 0.42857142857142855\n",
      "precision:  0.21428571428571427\n",
      "recall:  0.5\n",
      "f1_score:  0.3\n",
      "precision_recall_fscore_support : \n",
      "\t\n",
      "\t[0.         0.42857143]\n",
      "\t[0. 1.]\n",
      "\t[0.  0.6]\n",
      "\t[44 33]\n"
     ]
    },
    {
     "data": {
      "image/png": "[encoded data removed]",
      "text/plain": [
       "<Figure size 432x288 with 2 Axes>"
      ]
     },
     "metadata": {
      "needs_background": "light"
     },
     "output_type": "display_data"
    },
    {
     "name": "stdout",
     "output_type": "stream",
     "text": [
      "\n",
      " \n",
      "\n",
      "Fold  1  Id:  1\n"
     ]
    },
    {
     "name": "stderr",
     "output_type": "stream",
     "text": [
      "/home/leomaffei/test/lib/python3.7/site-packages/sklearn/neural_network/_multilayer_perceptron.py:571: ConvergenceWarning: Stochastic Optimizer: Maximum iterations (15000) reached and the optimization hasn't converged yet.\n",
      "  % self.max_iter, ConvergenceWarning)\n"
     ]
    },
    {
     "name": "stdout",
     "output_type": "stream",
     "text": [
      "accuracy: 0.42857142857142855\n",
      "precision:  0.436046511627907\n",
      "recall:  0.4356060606060606\n",
      "f1_score:  0.4284750337381916\n",
      "precision_recall_fscore_support : \n",
      "\t\n",
      "\t[0.5        0.37209302]\n",
      "\t[0.38636364 0.48484848]\n",
      "\t[0.43589744 0.42105263]\n",
      "\t[44 33]\n"
     ]
    },
    {
     "data": {
      "image/png": "[encoded data removed]",
      "text/plain": [
       "<Figure size 432x288 with 2 Axes>"
      ]
     },
     "metadata": {
      "needs_background": "light"
     },
     "output_type": "display_data"
    },
    {
     "name": "stdout",
     "output_type": "stream",
     "text": [
      "\n",
      " \n",
      "\n",
      "Fold  2  Id:  2\n",
      "accuracy: 0.5714285714285714\n",
      "precision:  0.4572072072072072\n",
      "recall:  0.4934027777777778\n",
      "f1_score:  0.3899159663865546\n",
      "precision_recall_fscore_support : \n",
      "\t\n",
      "\t[0.58108108 0.33333333]\n",
      "\t[0.95555556 0.03125   ]\n",
      "\t[0.72268908 0.05714286]\n",
      "\t[45 32]\n"
     ]
    },
    {
     "data": {
      "image/png": "[encoded data removed]",
      "text/plain": [
       "<Figure size 432x288 with 2 Axes>"
      ]
     },
     "metadata": {
      "needs_background": "light"
     },
     "output_type": "display_data"
    },
    {
     "name": "stdout",
     "output_type": "stream",
     "text": [
      "\n",
      " \n",
      "\n",
      "Fold  3  Id:  3\n",
      "accuracy: 0.5526315789473685\n",
      "precision:  0.45238095238095233\n",
      "recall:  0.48579545454545453\n",
      "f1_score:  0.40350877192982454\n",
      "precision_recall_fscore_support : \n",
      "\t\n",
      "\t[0.57142857 0.33333333]\n",
      "\t[0.90909091 0.0625    ]\n",
      "\t[0.70175439 0.10526316]\n",
      "\t[44 32]\n"
     ]
    },
    {
     "data": {
      "image/png": "[encoded data removed]",
      "text/plain": [
       "<Figure size 432x288 with 2 Axes>"
      ]
     },
     "metadata": {
      "needs_background": "light"
     },
     "output_type": "display_data"
    },
    {
     "name": "stdout",
     "output_type": "stream",
     "text": [
      "\n",
      " \n",
      "\n",
      "Fold  4  Id:  4\n",
      "accuracy: 0.42105263157894735\n",
      "precision:  0.21052631578947367\n",
      "recall:  0.5\n",
      "f1_score:  0.2962962962962963\n",
      "precision_recall_fscore_support : \n",
      "\t\n",
      "\t[0.         0.42105263]\n",
      "\t[0. 1.]\n",
      "\t[0.         0.59259259]\n",
      "\t[44 32]\n"
     ]
    },
    {
     "data": {
      "image/png": "[encoded data removed]",
      "text/plain": [
       "<Figure size 432x288 with 2 Axes>"
      ]
     },
     "metadata": {
      "needs_background": "light"
     },
     "output_type": "display_data"
    },
    {
     "name": "stdout",
     "output_type": "stream",
     "text": [
      "\n",
      " \n",
      "\n",
      "Mean accuracy =  0.48045112781954885 \n",
      "\n",
      "-----------------------\n",
      "\n"
     ]
    }
   ],
   "source": [
    "data_rf_all = drop_all_vs_rf(pd.read_csv('meta-base.csv'))\n",
    "data_rf_all.drop(data_rf_all.filter(regex='(.*?\\.auc|.*?\\.f1m)').columns, axis=1, inplace=True)\n",
    "\n",
    "#para cada combinação de 3 colunas, dropa essas 3 deixando 2 colunas para o problema de classificação\n",
    "#faz o pre_processamento do dataframe passando as colunas consideradas (retira os empates e seta as classes)\n",
    "#divide o data em features e rótulo e divide os folds\n",
    "data = data_rf_all\n",
    "rfc = MLPClassifier(hidden_layer_sizes=(2, 4, 2), max_iter = 15000, \n",
    "                        learning_rate_init = 0.00001)\n",
    "X = data.drop('Class', axis=1)\n",
    "y = data['Class']\n",
    "n_splits = 5\n",
    "skf = StratifiedKFold(n_splits=n_splits, random_state=42,\n",
    "                      shuffle=True)\n",
    "acc_list = []\n",
    "print(\"Considered classes\")\n",
    "print_counter(y)\n",
    "print(\"\\n\")\n",
    "iii = 0\n",
    "for k, (train_index, test_index) in enumerate(skf.split(X, y)):\n",
    "    print(\"Fold \", k, \" Id: \", iii)\n",
    "    iii += 1    \n",
    "    rfc.fit(X.loc[train_index, :], y.loc[train_index])\n",
    "    y_pred = rfc.predict(X.loc[test_index, :], )\n",
    "    \n",
    "    acc_list.append(accuracy_score(y_true=y.loc[test_index], y_pred=y_pred))\n",
    "\n",
    "    aux.show_metrics(y_true=y.loc[test_index], y_pred=y_pred)\n",
    "    \n",
    "    #matriz de confusão\n",
    "    disp = plot_confusion_matrix(rfc, X.loc[test_index, :], y.loc[test_index],\n",
    "                             display_labels=None,\n",
    "                             cmap=plt.cm.Blues,\n",
    "                             normalize=None)\n",
    "    plt.show()\n",
    "    print(\"\\n \\n\")\n",
    "\n",
    "print(\"Mean accuracy = \", np.mean(acc_list), \"\\n\")\n",
    "print(\"-----------------------\\n\")\n"
   ]
  }
 ],
 "metadata": {
  "kernelspec": {
   "display_name": "Python 3",
   "language": "python",
   "name": "python3"
  },
  "language_info": {
   "codemirror_mode": {
    "name": "ipython",
    "version": 3
   },
   "file_extension": ".py",
   "mimetype": "text/x-python",
   "name": "python",
   "nbconvert_exporter": "python",
   "pygments_lexer": "ipython3",
   "version": "3.7.2"
  }
 },
 "nbformat": 4,
 "nbformat_minor": 4
}
